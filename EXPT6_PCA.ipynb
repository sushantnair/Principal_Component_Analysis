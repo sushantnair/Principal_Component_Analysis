{
  "nbformat": 4,
  "nbformat_minor": 0,
  "metadata": {
    "colab": {
      "provenance": [],
      "authorship_tag": "ABX9TyNlFs4o/dzXhlO29J2HXLsH",
      "include_colab_link": true
    },
    "kernelspec": {
      "name": "python3",
      "display_name": "Python 3"
    },
    "language_info": {
      "name": "python"
    }
  },
  "cells": [
    {
      "cell_type": "markdown",
      "metadata": {
        "id": "view-in-github",
        "colab_type": "text"
      },
      "source": [
        "<a href=\"https://colab.research.google.com/github/sushantnair/Principal_Component_Analysis/blob/main/EXPT6_PCA.ipynb\" target=\"_parent\"><img src=\"https://colab.research.google.com/assets/colab-badge.svg\" alt=\"Open In Colab\"/></a>"
      ]
    },
    {
      "cell_type": "code",
      "execution_count": 1,
      "metadata": {
        "id": "rulJZtYSkGLl"
      },
      "outputs": [],
      "source": [
        "import numpy as np"
      ]
    },
    {
      "cell_type": "code",
      "source": [
        "print(f'Principal Component Analysis (PCA)\\nStep 1: Dataset\\nFeat Val1 Val2 Val3 Val4')\n",
        "# features = {'x': [4, 8, 13, 7, 8], 'y': [11, 4, 5, 14, 15], 'z': [1, 2, 3, 5, 6], 'a': [7, 8, 70, 80, 9]}\n",
        "features = {'x': [4, 8, 13, 7], 'y': [11, 4, 5, 14]}\n",
        "n = len(features)\n",
        "N = len(features['x'])\n",
        "for feature, values in features.items():\n",
        "    print(feature, *[\"{:>4}\".format(val) for val in values])"
      ],
      "metadata": {
        "colab": {
          "base_uri": "https://localhost:8080/"
        },
        "id": "wfFs0WfWkRIa",
        "outputId": "91d643bb-d8b5-4d67-ca2a-7250dda72467"
      },
      "execution_count": 2,
      "outputs": [
        {
          "output_type": "stream",
          "name": "stdout",
          "text": [
            "Principal Component Analysis (PCA)\n",
            "Step 1: Dataset\n",
            "Feat Val1 Val2 Val3 Val4\n",
            "x    4    8   13    7\n",
            "y   11    4    5   14\n"
          ]
        }
      ]
    },
    {
      "cell_type": "code",
      "source": [
        "print(f'Step 2: Calculate Mean')\n",
        "mean_dict = {}\n",
        "for feature, values in features.items():\n",
        "    sum = 0\n",
        "    for value in values:\n",
        "        sum = sum + value\n",
        "    mean = sum / len(values)\n",
        "    mean_dict[f'{feature}_bar'] = mean\n",
        "\n",
        "print(mean_dict)"
      ],
      "metadata": {
        "colab": {
          "base_uri": "https://localhost:8080/"
        },
        "id": "hbrsWt30nGHp",
        "outputId": "4e0269ab-a707-48df-96d9-03f310237746"
      },
      "execution_count": 3,
      "outputs": [
        {
          "output_type": "stream",
          "name": "stdout",
          "text": [
            "Step 2: Calculate Mean\n",
            "{'x_bar': 8.0, 'y_bar': 8.5}\n"
          ]
        }
      ]
    },
    {
      "cell_type": "code",
      "source": [
        "print(f'Step 3: Covariance Matrix')\n",
        "print(f'{n} features => {n} by {n} matrix')\n",
        "# Build the matrix\n",
        "cov_matrix = np.empty((n,n), dtype=object)\n",
        "for i, feature_i in enumerate(features):\n",
        "    for j, feature_j in enumerate(features):\n",
        "        cov_matrix[i,j] = (feature_i, feature_j)\n",
        "\n",
        "print(cov_matrix)\n",
        "cov_mat = np.empty((n,n))\n",
        "for i in range(cov_matrix.shape[0]):\n",
        "    for j in range(cov_matrix.shape[1]):\n",
        "        print(cov_matrix[i,j])\n",
        "        cov_val = 0\n",
        "        for k in range(N):\n",
        "            # Works only for two features\n",
        "            ''' cov_val = cov_val + ((features[f'{cov_mat[i,j][0]}'][k] - mean_dict[f'{cov_mat[i,j][0]}_bar']) * \\\n",
        "                                    (features[f'{cov_mat[i,j][1]}'][k] - mean_dict[f'{cov_mat[i,j][1]}_bar']))     '''\n",
        "\n",
        "            # Works for 'n' features in compact fashion\n",
        "            ''' cov_val = cov_val + ((features[list(features.keys())[i]][k] - mean_dict[f'{list(features.keys())[i]}_bar']) * \\\n",
        "                                    (features[list(features.keys())[j]][k] - mean_dict[f'{list(features.keys())[j]}_bar']))     '''\n",
        "\n",
        "            prod = 1\n",
        "            for l in range(len(cov_matrix[i,j])):\n",
        "                prod = prod * (features[f'{cov_matrix[i,j][l]}'][k] - mean_dict[f'{cov_matrix[i,j][l]}_bar'])\n",
        "            cov_val = cov_val + prod\n",
        "\n",
        "        cov_mat[i,j] = cov_val / (N - 1)\n",
        "\n",
        "print(cov_mat)\n"
      ],
      "metadata": {
        "colab": {
          "base_uri": "https://localhost:8080/"
        },
        "id": "KLiLj0EUoBtV",
        "outputId": "40a6d5ea-5e26-4cf1-d9dc-643a97ff5326"
      },
      "execution_count": 4,
      "outputs": [
        {
          "output_type": "stream",
          "name": "stdout",
          "text": [
            "Step 3: Covariance Matrix\n",
            "2 features => 2 by 2 matrix\n",
            "[[('x', 'x') ('x', 'y')]\n",
            " [('y', 'x') ('y', 'y')]]\n",
            "('x', 'x')\n",
            "('x', 'y')\n",
            "('y', 'x')\n",
            "('y', 'y')\n",
            "[[ 14. -11.]\n",
            " [-11.  23.]]\n"
          ]
        }
      ]
    },
    {
      "cell_type": "code",
      "source": [
        "# Check for NaN values\n",
        "if np.isnan(cov_mat).any():\n",
        "    print(\"Array contains NaN values\")\n",
        "\n",
        "# Check for inf values\n",
        "if np.isinf(cov_mat).any():\n",
        "    print(\"Array contains inf values\")"
      ],
      "metadata": {
        "id": "y6VdWMngbC1t"
      },
      "execution_count": 5,
      "outputs": []
    },
    {
      "cell_type": "code",
      "source": [
        "print(f'Step 4: Eigenvalue; Eigenvector; Normalized Eigenvector')\n",
        "print(f'Step 4a: Eigen value for v = 1')\n",
        "print(cov_mat)\n",
        "eigenvalues, eigenvectors = np.linalg.eig(cov_mat)\n",
        "print(f'Eigenvalues are: {eigenvalues}')\n",
        "\n",
        "# Find the index of the maximum eigenvalue\n",
        "max_egnvalindx = np.argmax(eigenvalues)\n",
        "\n",
        "# Get the maximum eigenvalue\n",
        "max_eigenvalue = eigenvalues[max_egnvalindx]\n",
        "\n",
        "# Get the corresponding Normalized Eigenvector\n",
        "max_eigenvector = eigenvectors[:, max_egnvalindx]\n",
        "\n",
        "print(f'Selected Eigenvalue: {max_eigenvalue}')\n",
        "print(f'Corresponding Normalized Eigenvector: {max_eigenvector}')"
      ],
      "metadata": {
        "colab": {
          "base_uri": "https://localhost:8080/"
        },
        "id": "ALX1j7AeFch5",
        "outputId": "cf34c4c4-1739-447b-a20c-888e9e2cde3f"
      },
      "execution_count": 6,
      "outputs": [
        {
          "output_type": "stream",
          "name": "stdout",
          "text": [
            "Step 4: Eigenvalue; Eigenvector; Normalized Eigenvector\n",
            "Step 4a: Eigen value for v = 1\n",
            "[[ 14. -11.]\n",
            " [-11.  23.]]\n",
            "Eigenvalues are: [ 6.61513568 30.38486432]\n",
            "Selected Eigenvalue: 30.384864324004713\n",
            "Corresponding Normalized Eigenvector: [ 0.55738997 -0.83025082]\n"
          ]
        }
      ]
    },
    {
      "cell_type": "code",
      "source": [
        "print(f'Step 5: Derive n to 1 using First Principal Component')\n",
        "# Reduced Dimension p\n",
        "p = dict()\n",
        "\n",
        "for i in range(N):\n",
        "    horz_mat = [value[i] - mean_dict[f'{feature}_bar'] for feature, value in features.items()]\n",
        "    horz_mat = np.array(horz_mat)\n",
        "    print(horz_mat)\n",
        "    vert_mat = horz_mat.reshape(-1,1)\n",
        "    print(vert_mat)\n",
        "    p_val = np.dot(max_eigenvector, vert_mat)\n",
        "    print(p_val[0])\n",
        "    p[f'p1{i+1}'] = round(p_val[0], 4)\n",
        "\n",
        "print(f'Reduced Dimensions: {p}')"
      ],
      "metadata": {
        "colab": {
          "base_uri": "https://localhost:8080/"
        },
        "id": "jiDsYpswQ59q",
        "outputId": "aed94e15-093a-4756-b79e-233dc3164d72"
      },
      "execution_count": 7,
      "outputs": [
        {
          "output_type": "stream",
          "name": "stdout",
          "text": [
            "Step 5: Derive n to 1 using First Principal Component\n",
            "[-4.   2.5]\n",
            "[[-4. ]\n",
            " [ 2.5]]\n",
            "-4.305186922674707\n",
            "[ 0.  -4.5]\n",
            "[[ 0. ]\n",
            " [-4.5]]\n",
            "3.7361286866113304\n",
            "[ 5.  -3.5]\n",
            "[[ 5. ]\n",
            " [-3.5]]\n",
            "5.692827710560994\n",
            "[-1.   5.5]\n",
            "[[-1. ]\n",
            " [ 5.5]]\n",
            "-5.123769474497617\n",
            "Reduced Dimensions: {'p11': -4.3052, 'p12': 3.7361, 'p13': 5.6928, 'p14': -5.1238}\n"
          ]
        }
      ]
    },
    {
      "cell_type": "code",
      "source": [
        "# references\n",
        "print(features)\n",
        "for value in features.values():\n",
        "    print(value)\n",
        "for feature, value in features.items():\n",
        "    print(feature, value)\n"
      ],
      "metadata": {
        "id": "0GQxrwQIUgah"
      },
      "execution_count": null,
      "outputs": []
    }
  ]
}